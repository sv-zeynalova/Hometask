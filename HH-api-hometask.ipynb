{
 "cells": [
  {
   "cell_type": "code",
   "execution_count": 222,
   "metadata": {},
   "outputs": [],
   "source": [
    "import requests\n",
    "from tqdm.auto import tqdm\n",
    "import pandas as pd\n",
    "from collections import defaultdict\n",
    "import datetime\n",
    "import matplotlib.pyplot as plt\n",
    "from bs4 import BeautifulSoup"
   ]
  },
  {
   "cell_type": "code",
   "execution_count": 193,
   "metadata": {},
   "outputs": [],
   "source": [
    "sber = '3529'\n",
    "page = 1\n",
    "num_per_page = 100\n",
    "moscow = 1\n",
    "url = f'https://api.hh.ru/vacancies?employer_id={sber}&page={page}&per_page={num_per_page}&area={moscow}'"
   ]
  },
  {
   "cell_type": "code",
   "execution_count": 194,
   "metadata": {},
   "outputs": [
    {
     "data": {
      "text/plain": [
       "20"
      ]
     },
     "execution_count": 194,
     "metadata": {},
     "output_type": "execute_result"
    }
   ],
   "source": [
    "res = requests.get(url)\n",
    "vacancies = res.json()\n",
    "num_pages = vacancies.get('pages')\n",
    "num_pages\n"
   ]
  },
  {
   "cell_type": "code",
   "execution_count": 195,
   "metadata": {},
   "outputs": [],
   "source": [
    "vacancies = res.json()\n",
    "num_pages = vacancies.get('pages')\n",
    "vacancy_ids = [el.get('id') for el in vacancies.get('items')]"
   ]
  },
  {
   "cell_type": "code",
   "execution_count": 196,
   "metadata": {},
   "outputs": [
    {
     "data": {
      "text/plain": [
       "dict_keys(['items', 'found', 'pages', 'per_page', 'page', 'clusters', 'arguments', 'alternate_url'])"
      ]
     },
     "execution_count": 196,
     "metadata": {},
     "output_type": "execute_result"
    }
   ],
   "source": [
    "vacancies.keys()"
   ]
  },
  {
   "cell_type": "code",
   "execution_count": 197,
   "metadata": {},
   "outputs": [],
   "source": [
    "#vacancies['items']"
   ]
  },
  {
   "cell_type": "code",
   "execution_count": 198,
   "metadata": {},
   "outputs": [
    {
     "data": {
      "text/plain": [
       "2098"
      ]
     },
     "execution_count": 198,
     "metadata": {},
     "output_type": "execute_result"
    }
   ],
   "source": [
    "vacancies.get('found')"
   ]
  },
  {
   "cell_type": "code",
   "execution_count": 199,
   "metadata": {},
   "outputs": [
    {
     "data": {
      "application/vnd.jupyter.widget-view+json": {
       "model_id": "c9ed7ac49b0643bebc8994ee79e8d66f",
       "version_major": 2,
       "version_minor": 0
      },
      "text/plain": [
       "  0%|          | 0/20 [00:00<?, ?it/s]"
      ]
     },
     "metadata": {},
     "output_type": "display_data"
    }
   ],
   "source": [
    "#Скачиваем ID всех вакансии Сбера\n",
    "all_vacancy_ids= []\n",
    "for i in tqdm(range(vacancies.get('pages'))):\n",
    "    url = f'https://api.hh.ru/vacancies?employer_id={sber}&page={i}&per_page={num_per_page}&area={moscow}'\n",
    "    res = requests.get(url)\n",
    "    vacancies = res.json()\n",
    "    vacancy_ids = [el.get('id') for el in vacancies.get('items')]\n",
    "    all_vacancy_ids.extend(vacancy_ids)"
   ]
  },
  {
   "cell_type": "code",
   "execution_count": 200,
   "metadata": {},
   "outputs": [
    {
     "data": {
      "text/plain": [
       "2000"
      ]
     },
     "execution_count": 200,
     "metadata": {},
     "output_type": "execute_result"
    }
   ],
   "source": [
    "len (all_vacancy_ids)"
   ]
  },
  {
   "cell_type": "code",
   "execution_count": 201,
   "metadata": {},
   "outputs": [],
   "source": [
    "vac_id = '43326020'\n",
    "url = f'https://api.hh.ru/vacancies/{vac_id}'\n",
    "res = requests.get(url)\n",
    "vacancy = res.json()\n"
   ]
  },
  {
   "cell_type": "code",
   "execution_count": 202,
   "metadata": {},
   "outputs": [],
   "source": [
    "#vacancy.keys()"
   ]
  },
  {
   "cell_type": "code",
   "execution_count": 203,
   "metadata": {},
   "outputs": [],
   "source": [
    "# Задание вытащить все вакансии СБЕРа с ХХ (у апи есть ограничение в 2000, подумайте как его обойти)\n",
    "# Вытащите все полные описания этих вакансий по запросу с https://api.hh.ru/vacancies/43326020 где 43326020 id вакансии\n",
    "# Создайте аналогичный vacancy DataFrame только добавьте поле skills\n",
    "# Переведите даты публикаций в datetime\n",
    "# Постройте график опубликованных вакансий по датам\n",
    "# Переведите даты в дни недели, и определите день недели, в который больше всего публикуют вакансий\n",
    "# Найдите те вакансии с использованием python, которые вам интересны\n",
    "# Определите по полю skills какие навыки больше всего востребованы для этих вакансий, и\n",
    "# Постройте график наиболее востребованных вакансий"
   ]
  },
  {
   "cell_type": "code",
   "execution_count": 273,
   "metadata": {},
   "outputs": [
    {
     "data": {
      "application/vnd.jupyter.widget-view+json": {
       "model_id": "37841ef76d104894a9bd3570299c517e",
       "version_major": 2,
       "version_minor": 0
      },
      "text/plain": [
       "  0%|          | 0/2000 [00:00<?, ?it/s]"
      ]
     },
     "metadata": {},
     "output_type": "display_data"
    }
   ],
   "source": [
    "# Формируем словарь со списками для колонок таблицы Vacancy (добавили поле Skills)\n",
    "#tab_dict = {'Id':[],'Name':[],'Vacdescription':[],'Skills':[],'Published_at':[],'Created_at':[]}\n",
    "tab_dict = defaultdict(list)\n",
    "# Заполняем списки с помощью цикла\n",
    "for item in tqdm (all_vacancy_ids):\n",
    "    url = f'https://api.hh.ru/vacancies/{item}'\n",
    "    res = requests.get(url)\n",
    "    vacancy = res.json()\n",
    "    tab_dict['Id'].append(vacancy['id'])\n",
    "    tab_dict['Name'].append(vacancy['name'])\n",
    "    tab_dict['Vacdescription'].append(vacancy['description'])\n",
    "    skills = ', '.join([x.get('name')for x in vacancy.get('key_skills')])\n",
    "    tab_dict['Skills'].append(skills)\n",
    "    tab_dict['Published_at'].append(vacancy['published_at'])\n",
    "    tab_dict['Created_at'].append(vacancy['created_at'])"
   ]
  },
  {
   "cell_type": "code",
   "execution_count": 470,
   "metadata": {},
   "outputs": [
    {
     "data": {
      "text/html": [
       "<div>\n",
       "<style scoped>\n",
       "    .dataframe tbody tr th:only-of-type {\n",
       "        vertical-align: middle;\n",
       "    }\n",
       "\n",
       "    .dataframe tbody tr th {\n",
       "        vertical-align: top;\n",
       "    }\n",
       "\n",
       "    .dataframe thead th {\n",
       "        text-align: right;\n",
       "    }\n",
       "</style>\n",
       "<table border=\"1\" class=\"dataframe\">\n",
       "  <thead>\n",
       "    <tr style=\"text-align: right;\">\n",
       "      <th></th>\n",
       "      <th>Id</th>\n",
       "      <th>Name</th>\n",
       "      <th>Vacdescription</th>\n",
       "      <th>Skills</th>\n",
       "      <th>Published_at</th>\n",
       "      <th>Created_at</th>\n",
       "    </tr>\n",
       "  </thead>\n",
       "  <tbody>\n",
       "    <tr>\n",
       "      <th>0</th>\n",
       "      <td>46380141</td>\n",
       "      <td>Клиентский менеджер внешней дистрибуции (Прямы...</td>\n",
       "      <td>&lt;p&gt;Хочешь работать в банке, но офисная рутина ...</td>\n",
       "      <td>Активные продажи, Работа в команде, Навыки про...</td>\n",
       "      <td>2021-10-14T14:48:43+0300</td>\n",
       "      <td>2021-10-14T14:48:43+0300</td>\n",
       "    </tr>\n",
       "    <tr>\n",
       "      <th>1</th>\n",
       "      <td>46943947</td>\n",
       "      <td>Клиентский менеджер прямых продаж</td>\n",
       "      <td>&lt;p&gt;У каждого нашего зарплатного клиента – комп...</td>\n",
       "      <td></td>\n",
       "      <td>2021-10-11T11:10:21+0300</td>\n",
       "      <td>2021-10-11T11:10:21+0300</td>\n",
       "    </tr>\n",
       "    <tr>\n",
       "      <th>2</th>\n",
       "      <td>48160324</td>\n",
       "      <td>Менеджер службы заботы</td>\n",
       "      <td>&lt;p&gt;Cлужба заботы F1 отвечает за оперативную по...</td>\n",
       "      <td>Грамотная речь, Работа в команде, Деловое обще...</td>\n",
       "      <td>2021-10-19T15:28:19+0300</td>\n",
       "      <td>2021-10-19T15:28:19+0300</td>\n",
       "    </tr>\n",
       "    <tr>\n",
       "      <th>3</th>\n",
       "      <td>48419849</td>\n",
       "      <td>Администратор зала</td>\n",
       "      <td>&lt;p&gt;&lt;strong&gt;Обязанности:&lt;/strong&gt;&lt;/p&gt; &lt;ul&gt; &lt;li&gt;...</td>\n",
       "      <td></td>\n",
       "      <td>2021-09-30T19:22:35+0300</td>\n",
       "      <td>2021-09-30T19:22:35+0300</td>\n",
       "    </tr>\n",
       "    <tr>\n",
       "      <th>4</th>\n",
       "      <td>44951547</td>\n",
       "      <td>Клиентский менеджер</td>\n",
       "      <td>&lt;p&gt;Клиентский менеджер ― специалист, который п...</td>\n",
       "      <td>Активные продажи, Прямые продажи</td>\n",
       "      <td>2021-10-06T20:09:35+0300</td>\n",
       "      <td>2021-10-06T20:09:35+0300</td>\n",
       "    </tr>\n",
       "  </tbody>\n",
       "</table>\n",
       "</div>"
      ],
      "text/plain": [
       "         Id                                               Name  \\\n",
       "0  46380141  Клиентский менеджер внешней дистрибуции (Прямы...   \n",
       "1  46943947                  Клиентский менеджер прямых продаж   \n",
       "2  48160324                             Менеджер службы заботы   \n",
       "3  48419849                                 Администратор зала   \n",
       "4  44951547                                Клиентский менеджер   \n",
       "\n",
       "                                      Vacdescription  \\\n",
       "0  <p>Хочешь работать в банке, но офисная рутина ...   \n",
       "1  <p>У каждого нашего зарплатного клиента – комп...   \n",
       "2  <p>Cлужба заботы F1 отвечает за оперативную по...   \n",
       "3  <p><strong>Обязанности:</strong></p> <ul> <li>...   \n",
       "4  <p>Клиентский менеджер ― специалист, который п...   \n",
       "\n",
       "                                              Skills  \\\n",
       "0  Активные продажи, Работа в команде, Навыки про...   \n",
       "1                                                      \n",
       "2  Грамотная речь, Работа в команде, Деловое обще...   \n",
       "3                                                      \n",
       "4                   Активные продажи, Прямые продажи   \n",
       "\n",
       "               Published_at                Created_at  \n",
       "0  2021-10-14T14:48:43+0300  2021-10-14T14:48:43+0300  \n",
       "1  2021-10-11T11:10:21+0300  2021-10-11T11:10:21+0300  \n",
       "2  2021-10-19T15:28:19+0300  2021-10-19T15:28:19+0300  \n",
       "3  2021-09-30T19:22:35+0300  2021-09-30T19:22:35+0300  \n",
       "4  2021-10-06T20:09:35+0300  2021-10-06T20:09:35+0300  "
      ]
     },
     "execution_count": 470,
     "metadata": {},
     "output_type": "execute_result"
    }
   ],
   "source": [
    "df= pd.DataFrame.from_dict(tab_dict)\n",
    "df.head()"
   ]
  },
  {
   "cell_type": "code",
   "execution_count": 471,
   "metadata": {},
   "outputs": [],
   "source": [
    "#Переводим даты публикаций в datetime\n",
    "df.Published_at = pd.to_datetime(df.Published_at).dt.date #(и убрали из колонки время)\n",
    "#df.Published_at"
   ]
  },
  {
   "cell_type": "code",
   "execution_count": 456,
   "metadata": {},
   "outputs": [],
   "source": [
    "#Поменяли формат даты\n",
    "#df1=df.Published_at.apply(lambda x:x.strftime(\"%m.%Y\"))"
   ]
  },
  {
   "cell_type": "code",
   "execution_count": 68,
   "metadata": {},
   "outputs": [],
   "source": [
    "#df.Published_at.dt.strftime('%d.%m.%Y') - 2 вариант"
   ]
  },
  {
   "cell_type": "code",
   "execution_count": 472,
   "metadata": {},
   "outputs": [
    {
     "data": {
      "text/plain": [
       "Text(0, 0.5, 'Количество вакансий')"
      ]
     },
     "execution_count": 472,
     "metadata": {},
     "output_type": "execute_result"
    },
    {
     "data": {
      "image/png": "[encoded data removed]",
      "text/plain": [
       "<Figure size 432x288 with 1 Axes>"
      ]
     },
     "metadata": {
      "needs_background": "light"
     },
     "output_type": "display_data"
    }
   ],
   "source": [
    "# Постройте график опубликованных вакансий по датам\n",
    "df.set_index('Published_at')\n",
    "df.groupby('Published_at')['Id'].count().plot(kind='bar')\n",
    "plt.title('График опубликованных вакансий по датам')\n",
    "plt.xlabel('Дата')\n",
    "plt.ylabel('Количество вакансий')"
   ]
  },
  {
   "cell_type": "code",
   "execution_count": 473,
   "metadata": {},
   "outputs": [
    {
     "data": {
      "text/plain": [
       "Weekday\n",
       "Monday       547\n",
       "Wednesday    383\n",
       "Friday       355\n",
       "Tuesday      333\n",
       "Thursday     323\n",
       "Sunday        40\n",
       "Saturday      19\n",
       "Name: Id, dtype: int64"
      ]
     },
     "execution_count": 473,
     "metadata": {},
     "output_type": "execute_result"
    }
   ],
   "source": [
    "# Переведите даты в дни недели, и определите день недели, в который больше всего публикуют вакансий\n",
    "#df.reset_index()\n",
    "df['Weekday']=df.Published_at.apply(lambda x: x.strftime('%A'))\n",
    "df.groupby('Weekday')['Id'].count().sort_values(ascending=False)"
   ]
  },
  {
   "cell_type": "markdown",
   "metadata": {},
   "source": [
    "Вывод: больше всего опубликовано вакансий в понедельник."
   ]
  },
  {
   "cell_type": "code",
   "execution_count": 474,
   "metadata": {},
   "outputs": [
    {
     "data": {
      "text/plain": [
       "(17, 4)"
      ]
     },
     "execution_count": 474,
     "metadata": {},
     "output_type": "execute_result"
    }
   ],
   "source": [
    "# Найдите те вакансии с использованием python, которые вам интересны\n",
    "cols = ['Name','Vacdescription','Published_at','Skills'] \n",
    "\n",
    "vacs = df[df.Name.str.lower().str.contains('аналитик данных')|\n",
    "       df.Name.str.lower().str.contains('data analyst')&\n",
    "       df.Vacdescription.str.lower().str.contains('обучение')&\n",
    "       df.Vacdescription.str.lower().str.contains('python')][cols]\n",
    "\n",
    "vacs.shape\n"
   ]
  },
  {
   "cell_type": "markdown",
   "metadata": {},
   "source": [
    "Вывод: по заявленным фильтрам найдено 17 вакансий"
   ]
  },
  {
   "cell_type": "code",
   "execution_count": 475,
   "metadata": {},
   "outputs": [
    {
     "data": {
      "text/plain": [
       "[(' SQL', 10), (' Python', 3), (' Анализ данных', 3)]"
      ]
     },
     "execution_count": 475,
     "metadata": {},
     "output_type": "execute_result"
    }
   ],
   "source": [
    "# Определите по полю skills какие навыки больше всего востребованы для этих вакансий\n",
    "\n",
    "vacs1=vacs['Skills'].tolist()# преобразовали данные колонки Skills в один общий список\n",
    "vacs1=''.join(vacs1)#соединили все элементы списка в одну строку\n",
    "#print(type(vacs1)) - тип данных - строка\n",
    "from collections import Counter\n",
    "c =Counter(w for w in vacs1.split(',')).most_common(3) #в полученной строке считаем повторяющиеся элементы, выводим топ 3 Skills\n",
    "c"
   ]
  },
  {
   "cell_type": "markdown",
   "metadata": {},
   "source": [
    "Вывод: топ 3 навыков, которые больше всего востребованы для вакансий, которые мне интересны: SQL, Python, Анализ данных."
   ]
  },
  {
   "cell_type": "code",
   "execution_count": 476,
   "metadata": {},
   "outputs": [
    {
     "data": {
      "text/html": [
       "<div>\n",
       "<style scoped>\n",
       "    .dataframe tbody tr th:only-of-type {\n",
       "        vertical-align: middle;\n",
       "    }\n",
       "\n",
       "    .dataframe tbody tr th {\n",
       "        vertical-align: top;\n",
       "    }\n",
       "\n",
       "    .dataframe thead th {\n",
       "        text-align: right;\n",
       "    }\n",
       "</style>\n",
       "<table border=\"1\" class=\"dataframe\">\n",
       "  <thead>\n",
       "    <tr style=\"text-align: right;\">\n",
       "      <th></th>\n",
       "      <th>Name</th>\n",
       "      <th>Id</th>\n",
       "    </tr>\n",
       "  </thead>\n",
       "  <tbody>\n",
       "    <tr>\n",
       "      <th>1470</th>\n",
       "      <td>Системный аналитик</td>\n",
       "      <td>36</td>\n",
       "    </tr>\n",
       "    <tr>\n",
       "      <th>161</th>\n",
       "      <td>DevOps инженер</td>\n",
       "      <td>15</td>\n",
       "    </tr>\n",
       "    <tr>\n",
       "      <th>335</th>\n",
       "      <td>Java-разработчик</td>\n",
       "      <td>13</td>\n",
       "    </tr>\n",
       "    <tr>\n",
       "      <th>307</th>\n",
       "      <td>Java разработчик</td>\n",
       "      <td>12</td>\n",
       "    </tr>\n",
       "    <tr>\n",
       "      <th>224</th>\n",
       "      <td>Frontend-разработчик</td>\n",
       "      <td>10</td>\n",
       "    </tr>\n",
       "  </tbody>\n",
       "</table>\n",
       "</div>"
      ],
      "text/plain": [
       "                      Name  Id\n",
       "1470    Системный аналитик  36\n",
       "161         DevOps инженер  15\n",
       "335       Java-разработчик  13\n",
       "307       Java разработчик  12\n",
       "224   Frontend-разработчик  10"
      ]
     },
     "execution_count": 476,
     "metadata": {},
     "output_type": "execute_result"
    }
   ],
   "source": [
    "# Постройте график наиболее востребованных вакансий\n",
    "vacs2 = df.groupby('Name')['Id'].count().reset_index()\n",
    "vacs2.sort_values(by='Id',ascending=False, inplace = True)\n",
    "vacs2.head()"
   ]
  },
  {
   "cell_type": "code",
   "execution_count": 477,
   "metadata": {},
   "outputs": [
    {
     "data": {
      "text/plain": [
       "Text(0, 0.5, 'Количество вакансий')"
      ]
     },
     "execution_count": 477,
     "metadata": {},
     "output_type": "execute_result"
    },
    {
     "data": {
      "image/png": "[encoded data removed]",
      "text/plain": [
       "<Figure size 432x288 with 1 Axes>"
      ]
     },
     "metadata": {
      "needs_background": "light"
     },
     "output_type": "display_data"
    }
   ],
   "source": [
    "vacs2.nlargest(10, 'Id').set_index('Name').plot(kind='bar')#10 наиболее востребованных вакансий\n",
    "plt.title('Топ 10 востребованных вакансий')\n",
    "plt.xlabel('Название вакансии')\n",
    "plt.ylabel('Количество вакансий')"
   ]
  }
 ],
 "metadata": {
  "kernelspec": {
   "display_name": "Python 3",
   "language": "python",
   "name": "python3"
  },
  "language_info": {
   "codemirror_mode": {
    "name": "ipython",
    "version": 3
   },
   "file_extension": ".py",
   "mimetype": "text/x-python",
   "name": "python",
   "nbconvert_exporter": "python",
   "pygments_lexer": "ipython3",
   "version": "3.8.8"
  }
 },
 "nbformat": 4,
 "nbformat_minor": 4
}
